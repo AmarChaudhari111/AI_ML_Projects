{
 "cells": [
  {
   "cell_type": "raw",
   "id": "048b8710-0ce5-428e-b1fc-8a7b5e0fdc5b",
   "metadata": {},
   "source": [
    "print(\"Hello, I am starting my AI/ML journey with Jupyter Notebook!\")"
   ]
  },
  {
   "cell_type": "code",
   "execution_count": 1,
   "id": "04225613-cee6-4b86-9aa9-bf2b0e7a3e71",
   "metadata": {},
   "outputs": [
    {
     "name": "stdout",
     "output_type": "stream",
     "text": [
      "Updated: I am learning AI/ML with Git!\n"
     ]
    }
   ],
   "source": [
    "print(\"Updated: I am learning AI/ML with Git!\")"
   ]
  },
  {
   "cell_type": "code",
   "execution_count": null,
   "id": "bac3f6fd-319f-4265-86a5-3aedc5cb22d5",
   "metadata": {},
   "outputs": [],
   "source": []
  }
 ],
 "metadata": {
  "kernelspec": {
   "display_name": "Python [conda env:base] *",
   "language": "python",
   "name": "conda-base-py"
  },
  "language_info": {
   "codemirror_mode": {
    "name": "ipython",
    "version": 3
   },
   "file_extension": ".py",
   "mimetype": "text/x-python",
   "name": "python",
   "nbconvert_exporter": "python",
   "pygments_lexer": "ipython3",
   "version": "3.12.7"
  }
 },
 "nbformat": 4,
 "nbformat_minor": 5
}
